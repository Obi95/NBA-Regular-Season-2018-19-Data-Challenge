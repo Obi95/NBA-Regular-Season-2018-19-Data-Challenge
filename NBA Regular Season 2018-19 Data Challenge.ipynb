{
 "cells": [
  {
   "cell_type": "markdown",
   "metadata": {},
   "source": [
    "# Nba Regular Season 2018-19 Data Challenge\n",
    "\n",
    "Your task will be to take the dataset given, and create an analysis answering the following 10 questions. This project will again test your knowledge of pandas in order to find the answers needed given the data you are presented with."
   ]
  },
  {
   "cell_type": "markdown",
   "metadata": {},
   "source": [
    "# What was the average age of player in the league?"
   ]
  },
  {
   "cell_type": "code",
   "execution_count": 7,
   "metadata": {},
   "outputs": [
    {
     "name": "stdout",
     "output_type": "stream",
     "text": [
      "Average age of players in the league: 26.0\n"
     ]
    }
   ],
   "source": [
    "import pandas as pd\n",
    "\n",
    "df = pd.read_csv('nbastats2018-2019 - nbastats2018-2019.csv')\n",
    "average_age = df['Age'].mean().round()\n",
    "\n",
    "print(\"Average player's age in the league:\", average_age)\n",
    "\n",
    "# We create our dataframe and create a variable to look in the column \"Age\"\n",
    "# We can then use the function \".mean()\" to get the average age and for simplicity since the mean \n",
    "# Would return a float.. We could just use the function \".round()\" to round the average age."
   ]
  },
  {
   "cell_type": "markdown",
   "metadata": {},
   "source": [
    "# What player scored the most points?"
   ]
  },
  {
   "cell_type": "code",
   "execution_count": 11,
   "metadata": {},
   "outputs": [
    {
     "name": "stdout",
     "output_type": "stream",
     "text": [
      "Player(s) with the most points:\n",
      "Name: James Harden\n",
      "Total Points: 36.1\n"
     ]
    }
   ],
   "source": [
    "import pandas as pd\n",
    "\n",
    "max_points = df['Points'].max()\n",
    "\n",
    "player_with_most_points = df[df['Points'] == max_points]\n",
    "player_names = player_with_most_points['Name'].tolist()\n",
    "\n",
    "print(\"Player(s) with the most points:\")\n",
    "for name in player_names:\n",
    "    print(\"Name:\", name)\n",
    "print(\"Total Points:\", max_points)\n",
    "\n",
    "# Find maximum value in the 'Points' column then we can \"filter\" through our DataFrame"
   ]
  },
  {
   "cell_type": "markdown",
   "metadata": {},
   "source": [
    "# What player had the most blocks during the season? Was it a post player (F/C)?"
   ]
  },
  {
   "cell_type": "code",
   "execution_count": 13,
   "metadata": {},
   "outputs": [
    {
     "name": "stdout",
     "output_type": "stream",
     "text": [
      "Player(s) with the most blocks:\n",
      "             Name  Height  Weight            Team  Age   Salary  Points  \\\n",
      "476  Myles Turner      83     250  Indiana Pacers   22  3410284    13.3   \n",
      "\n",
      "     Blocks  Steals  Assists  ...    MP   G   PER  OWS  DWS   WS   WS48   USG  \\\n",
      "476     2.7     0.8      1.6  ...  28.6  74  18.0  1.9  4.4  6.3  0.144  20.0   \n",
      "\n",
      "     BPM  VORP  \n",
      "476  3.3   2.8  \n",
      "\n",
      "[1 rows x 27 columns]\n"
     ]
    }
   ],
   "source": [
    "import pandas as pd\n",
    "\n",
    "player_with_most_blocks = df[df['Blocks'] == df['Blocks'].max()]\n",
    "\n",
    "print(\"Player(s) with the most blocks:\")\n",
    "print(player_with_most_blocks)\n",
    "\n",
    "# \"df[df[]]\" lets us filter a DataFrame based on certain conditions within the square Brackets"
   ]
  },
  {
   "cell_type": "markdown",
   "metadata": {},
   "source": [
    "# Based on the regular season, who had the best chance to win a title given their win percentage?"
   ]
  },
  {
   "cell_type": "code",
   "execution_count": 47,
   "metadata": {},
   "outputs": [
    {
     "name": "stdout",
     "output_type": "stream",
     "text": [
      "Player with the highest chance to win the season based on performance:\n",
      "James Harden - 17.9642\n"
     ]
    }
   ],
   "source": [
    "import pandas as pd\n",
    "\n",
    "df = pd.read_csv('nbastats2018-2019 - nbastats2018-2019.csv')\n",
    "\n",
    "weights = {\n",
    "    'Points': 0.4,\n",
    "    'Rebounds': 0.3,\n",
    "    'Assists': 0.2,\n",
    "    'FG%': 0.1  # Example weights, adjust as needed\n",
    "}\n",
    "\n",
    "df['Composite_Score'] = (df['Points'] * weights['Points'] +\n",
    "                         df['Rebounds'] * weights['Rebounds'] +\n",
    "                         df['Assists'] * weights['Assists'] +\n",
    "                         df['FG%'] * weights['FG%'])\n",
    "\n",
    "\n",
    "top_performer = df.loc[df['Composite_Score'].idxmax()]\n",
    "\n",
    "print(\"Player highest chance to win the season based on performance:\")\n",
    "print(top_performer['Name'], \"-\", top_performer['Composite_Score'])"
   ]
  },
  {
   "cell_type": "markdown",
   "metadata": {},
   "source": [
    "# What player had the best 3-pt percentage? "
   ]
  },
  {
   "cell_type": "code",
   "execution_count": 38,
   "metadata": {},
   "outputs": [
    {
     "name": "stdout",
     "output_type": "stream",
     "text": [
      "Player with the best 3-point percentage:\n",
      "Trevon Duval\n",
      "3-point percentage: 1.0\n"
     ]
    }
   ],
   "source": [
    "import pandas as pd\n",
    "\n",
    "df = pd.read_csv('nbastats2018-2019 - nbastats2018-2019.csv')\n",
    "\n",
    "best_3pt_player = df.loc[df['FG3%'].idxmax()]\n",
    "\n",
    "print(\"Player with the best 3-point percentage:\")\n",
    "print(best_3pt_player['Name'])  \n",
    "print(\"3-point percentage:\", best_3pt_player['FG3%']) "
   ]
  },
  {
   "cell_type": "markdown",
   "metadata": {},
   "source": [
    "# Who played the most minutes during the season"
   ]
  },
  {
   "cell_type": "code",
   "execution_count": 19,
   "metadata": {},
   "outputs": [
    {
     "name": "stdout",
     "output_type": "stream",
     "text": [
      "Player who played the most minutes during the season:\n",
      "Name              Bradley Beal\n",
      "Height                      77\n",
      "Weight                     207\n",
      "Team        Washington Wizards\n",
      "Age                         25\n",
      "Salary                25434263\n",
      "Points                    25.6\n",
      "Blocks                     0.7\n",
      "Steals                     1.5\n",
      "Assists                    5.5\n",
      "Rebounds                   5.0\n",
      "FT%                      0.808\n",
      "FTA                        5.5\n",
      "FG3%                     0.351\n",
      "FG3A                       7.3\n",
      "FG%                      0.475\n",
      "FGA                       19.6\n",
      "MP                        36.9\n",
      "G                           82\n",
      "PER                       20.8\n",
      "OWS                        5.9\n",
      "DWS                        1.7\n",
      "WS                         7.6\n",
      "WS48                      0.12\n",
      "USG                       28.4\n",
      "BPM                        2.8\n",
      "VORP                       3.7\n",
      "Name: 37, dtype: object\n"
     ]
    }
   ],
   "source": [
    "import pandas as pd\n",
    "\n",
    "df = pd.read_csv('nbastats2018-2019 - nbastats2018-2019.csv')\n",
    "\n",
    "most_minutes_player = df.loc[df['MP'].idxmax()]\n",
    "\n",
    "print(\"Player who played the most minutes during the season:\")\n",
    "print(most_minutes_player)\n",
    "\n",
    "# We load our csv to a dataFrame\n",
    "# idmax() finds the index to the maximum value in the 'MP' Column.\n",
    "# df.loc[] lets us access a group of rows and columns In this case, we use it to view/return the row containing the\n",
    "# maximum amount of 'MP'"
   ]
  },
  {
   "cell_type": "markdown",
   "metadata": {},
   "source": [
    "# What player given their player effiecency rating was the clutchest during the season?"
   ]
  },
  {
   "cell_type": "code",
   "execution_count": 37,
   "metadata": {},
   "outputs": [
    {
     "name": "stdout",
     "output_type": "stream",
     "text": [
      "Clutchest player based on Player Efficiency Rating (PER):\n",
      "Player: Zhou Qi\n",
      "Player Efficiency Rating (PER): 80.4\n"
     ]
    }
   ],
   "source": [
    "import pandas as pd\n",
    "\n",
    "df = pd.read_csv('nbastats2018-2019 - nbastats2018-2019.csv')\n",
    "\n",
    "clutchest_player = df.loc[df['PER'].idxmax()]\n",
    "\n",
    "print(\"Clutchest\"  \" player based on Player Efficiency Rating (PER):\")\n",
    "print(\"Player:\", clutchest_player['Name'])\n",
    "print(\"Player Efficiency Rating (PER):\", clutchest_player['PER'])"
   ]
  },
  {
   "cell_type": "markdown",
   "metadata": {},
   "source": [
    "# What team had the youngest roster?"
   ]
  },
  {
   "cell_type": "code",
   "execution_count": 21,
   "metadata": {},
   "outputs": [
    {
     "name": "stdout",
     "output_type": "stream",
     "text": [
      "Team with the youngest roster:\n",
      "Chicago Bulls\n"
     ]
    }
   ],
   "source": [
    "import pandas as pd\n",
    "\n",
    "df = pd.read_csv('nbastats2018-2019 - nbastats2018-2019.csv')\n",
    "\n",
    "average_age_by_team = df.groupby('Team')['Age'].mean()\n",
    "youngest_roster_team = average_age_by_team.idxmin()\n",
    "\n",
    "print(\"Team with the youngest roster:\")\n",
    "print(youngest_roster_team)\n",
    "\n",
    "# Similar to the 1st question. We groupby('Team') and use the function .mean() to find the average  in the\n",
    "# column'Age'. when in brackets we are specifying to check the age average per team\n",
    "# Then we can use the function '.idmix()' to return the team with the minimum average age. "
   ]
  },
  {
   "cell_type": "markdown",
   "metadata": {},
   "source": [
    "# Who is the highest paid player during the seasion?"
   ]
  },
  {
   "cell_type": "code",
   "execution_count": 23,
   "metadata": {},
   "outputs": [
    {
     "name": "stdout",
     "output_type": "stream",
     "text": [
      "Highest-paid player during the season:\n",
      "Name              John Jenkins\n",
      "Height                      76\n",
      "Weight                     215\n",
      "Team        Washington Wizards\n",
      "Age                         27\n",
      "Salary                   99290\n",
      "Points                     4.7\n",
      "Blocks                     0.1\n",
      "Steals                     0.0\n",
      "Assists                    0.8\n",
      "Rebounds                   1.4\n",
      "FT%                      0.833\n",
      "FTA                        0.7\n",
      "FG3%                     0.379\n",
      "FG3A                       2.2\n",
      "FG%                        0.4\n",
      "FGA                        4.0\n",
      "MP                        12.8\n",
      "G                           26\n",
      "PER                        9.7\n",
      "OWS                        0.2\n",
      "DWS                        0.0\n",
      "WS                         0.2\n",
      "WS48                     0.031\n",
      "USG                       15.7\n",
      "BPM                       -5.2\n",
      "VORP                      -0.3\n",
      "Name: 255, dtype: object\n"
     ]
    }
   ],
   "source": [
    "import pandas as pd\n",
    "\n",
    "df = pd.read_csv('nbastats2018-2019 - nbastats2018-2019.csv')\n",
    "\n",
    "highest_paid_player = df.loc[df['Salary'].idxmax()]\n",
    "\n",
    "print(\"Highest-paid player during the season:\")\n",
    "print(highest_paid_player)\n",
    "\n",
    "# In this line of code we load our csv to a dataframe for manipulation\n",
    "# We use 'df.loc[df['Salary']].idmax()]' to access the row in our dataframe that countains the minimum amount\n",
    "# within the column'Salary' \n"
   ]
  },
  {
   "cell_type": "markdown",
   "metadata": {},
   "source": [
    "# At the end of a game, who WOULDN'T you want on the Free Throw Line?"
   ]
  },
  {
   "cell_type": "code",
   "execution_count": 26,
   "metadata": {},
   "outputs": [
    {
     "name": "stdout",
     "output_type": "stream",
     "text": [
      "Player with lowest FT percentage:\n",
      "Name                  Jacob Evans\n",
      "Height                         78\n",
      "Weight                        210\n",
      "Team        Golden State Warriors\n",
      "Age                            21\n",
      "Salary                    1644240\n",
      "Points                        1.3\n",
      "Blocks                        0.1\n",
      "Steals                        0.2\n",
      "Assists                       0.8\n",
      "Rebounds                      0.8\n",
      "FT%                           0.0\n",
      "FTA                           0.0\n",
      "FG3%                        0.267\n",
      "FG3A                          0.5\n",
      "FG%                          0.34\n",
      "FGA                           1.8\n",
      "MP                            6.8\n",
      "G                              30\n",
      "PER                           3.5\n",
      "OWS                          -0.3\n",
      "DWS                           0.2\n",
      "WS                           -0.1\n",
      "WS48                        -0.03\n",
      "USG                          13.5\n",
      "BPM                          -6.9\n",
      "VORP                         -0.3\n",
      "Name: 154, dtype: object\n"
     ]
    }
   ],
   "source": [
    "import pandas as pd\n",
    "\n",
    "df = pd.read_csv('nbastats2018-2019 - nbastats2018-2019.csv')\n",
    "\n",
    "player_with_lowest_FT_percentage = df.loc[df['FT%'].idxmin()]\n",
    "\n",
    "print(\"Player with lowest FT percentage:\")\n",
    "print(player_with_lowest_FT_percentage)\n",
    "\n",
    "# We look for minimum FT% out of all our players and return their status. In this case\n",
    "# You would not want to have Jacob Evans in the Free Throw Line."
   ]
  },
  {
   "cell_type": "code",
   "execution_count": null,
   "metadata": {},
   "outputs": [],
   "source": []
  }
 ],
 "metadata": {
  "kernelspec": {
   "display_name": "Python 3 (ipykernel)",
   "language": "python",
   "name": "python3"
  },
  "language_info": {
   "codemirror_mode": {
    "name": "ipython",
    "version": 3
   },
   "file_extension": ".py",
   "mimetype": "text/x-python",
   "name": "python",
   "nbconvert_exporter": "python",
   "pygments_lexer": "ipython3",
   "version": "3.11.7"
  }
 },
 "nbformat": 4,
 "nbformat_minor": 4
}
